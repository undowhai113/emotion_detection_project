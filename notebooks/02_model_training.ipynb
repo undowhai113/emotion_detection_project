{
 "cells": [
  {
   "cell_type": "code",
   "execution_count": null,
   "id": "752d85ae",
   "metadata": {},
   "outputs": [],
   "source": [
    "import os\n",
    "import sys\n",
    "\n",
    "# Thêm thư mục gốc của dự án vào sys.path\n",
    "project_root = os.path.abspath(os.path.join(os.getcwd(), \"..\"))\n",
    "if project_root not in sys.path:\n",
    "    sys.path.insert(0, project_root)\n",
    "\n",
    "print(\"Project root added to sys.path:\", project_root)"
   ]
  },
  {
   "cell_type": "code",
   "execution_count": null,
   "id": "059f1cec",
   "metadata": {},
   "outputs": [],
   "source": [
    "import numpy as np\n",
    "import tensorflow as tf\n",
    "from src.model import build_transfer_model\n",
    "from tensorflow.keras.preprocessing.image import ImageDataGenerator\n",
    "from tensorflow.keras.callbacks import EarlyStopping\n",
    "from tensorflow.keras.optimizers import Adam"
   ]
  },
  {
   "cell_type": "markdown",
   "id": "2696dd0e",
   "metadata": {},
   "source": [
    "<span style=\"color: cyan;font-weight: bold;\">Định nghĩa đường dẫn<span>"
   ]
  },
  {
   "cell_type": "code",
   "execution_count": null,
   "id": "0fc97cc3",
   "metadata": {},
   "outputs": [],
   "source": [
    "PROCESSED_DIR = '../data/processed'\n",
    "MODEL_PATH = '../models/transfer_learning_model.h5'"
   ]
  },
  {
   "cell_type": "markdown",
   "id": "3e656e47",
   "metadata": {},
   "source": [
    "<span style=\"color: cyan;font-weight: bold;\">Tải dữ liệu đã tiền xử lý<span>"
   ]
  },
  {
   "cell_type": "code",
   "execution_count": null,
   "id": "4b4a9eab",
   "metadata": {},
   "outputs": [],
   "source": [
    "X_train = np.load(f\"{PROCESSED_DIR}/X_train.npy\")\n",
    "y_train = np.load(f\"{PROCESSED_DIR}/y_train.npy\")\n",
    "X_val = np.load(f\"{PROCESSED_DIR}/X_val.npy\")\n",
    "y_val = np.load(f\"{PROCESSED_DIR}/y_val.npy\")"
   ]
  },
  {
   "cell_type": "markdown",
   "id": "9c03cba3",
   "metadata": {},
   "source": [
    "<span style=\"color: cyan;font-weight: bold;\">Chuyển ảnh xám thành RGB<span>"
   ]
  },
  {
   "cell_type": "code",
   "execution_count": null,
   "id": "56a0bdec",
   "metadata": {},
   "outputs": [],
   "source": [
    "X_train_rgb = np.repeat(X_train, 3, axis=-1)\n",
    "X_val_rgb = np.repeat(X_val, 3, axis=-1)"
   ]
  },
  {
   "cell_type": "markdown",
   "id": "ffbc2e31",
   "metadata": {},
   "source": [
    "<span style=\"color: cyan;font-weight: bold;\">Xây dựng và biên dịch mô hình<span>"
   ]
  },
  {
   "cell_type": "code",
   "execution_count": null,
   "id": "3ca67f15",
   "metadata": {},
   "outputs": [],
   "source": [
    "model = build_transfer_model()\n",
    "model.compile(optimizer=Adam(learning_rate=0.0001), loss='categorical_crossentropy', metrics=['accuracy'])"
   ]
  },
  {
   "cell_type": "markdown",
   "id": "9c8fea47",
   "metadata": {},
   "source": [
    "<span style=\"color: cyan;font-weight: bold;\">Huấn luyện ban đầu với base_model đóng băng<span>"
   ]
  },
  {
   "cell_type": "code",
   "execution_count": null,
   "id": "55583968",
   "metadata": {},
   "outputs": [],
   "source": [
    "early_stop = EarlyStopping(monitor='val_loss', patience=10)\n",
    "history = model.fit(datagen.flow(X_train_rgb, y_train, batch_size=32),\n",
    "                    validation_data=(X_val_rgb, y_val),\n",
    "                    epochs=50,\n",
    "                    callbacks=[early_stop])"
   ]
  },
  {
   "cell_type": "markdown",
   "id": "6f0340d5",
   "metadata": {},
   "source": [
    "<span style=\"color: cyan;font-weight: bold;\">Data Augmentation<span>"
   ]
  },
  {
   "cell_type": "code",
   "execution_count": null,
   "id": "55ff462a",
   "metadata": {},
   "outputs": [],
   "source": [
    "datagen = ImageDataGenerator(rotation_range=10, width_shift_range=0.1, height_shift_range=0.1, horizontal_flip=True)\n",
    "datagen.fit(X_train_rgb)"
   ]
  },
  {
   "cell_type": "markdown",
   "id": "6897cdd5",
   "metadata": {},
   "source": [
    "<span style=\"color: cyan;font-weight: bold;\">Huấn luyện mô hình<span>"
   ]
  },
  {
   "cell_type": "code",
   "execution_count": null,
   "id": "b704f366",
   "metadata": {},
   "outputs": [],
   "source": [
    "from tensorflow.keras.callbacks import EarlyStopping, ReduceLROnPlateau\n",
    "\n",
    "early_stop = EarlyStopping(monitor='val_loss', patience=5, restore_best_weights=True)\n",
    "lr_reduce = ReduceLROnPlateau(monitor='val_loss', factor=0.5, patience=3)\n",
    "\n",
    "history = model.fit(\n",
    "    datagen.flow(X_train_rgb, y_train, batch_size=32),\n",
    "    validation_data=(X_val_rgb, y_val),\n",
    "    epochs=30,\n",
    "    callbacks=[early_stop, lr_reduce],\n",
    "    class_weight=class_weight_dict\n",
    ")\n"
   ]
  },
  {
   "cell_type": "markdown",
   "id": "3d758f67",
   "metadata": {},
   "source": [
    "<span style=\"color: cyan;font-weight: bold;\">Lưu mô hình<span>"
   ]
  },
  {
   "cell_type": "code",
   "execution_count": null,
   "id": "f8493d45",
   "metadata": {},
   "outputs": [],
   "source": [
    "model.save(MODEL_PATH)"
   ]
  },
  {
   "cell_type": "markdown",
   "id": "218e4a68",
   "metadata": {},
   "source": [
    "<span style=\"color: cyan;font-weight: bold;\">tạo file training_history.png<span>"
   ]
  },
  {
   "cell_type": "code",
   "execution_count": null,
   "id": "13e6c422",
   "metadata": {},
   "outputs": [],
   "source": [
    "import os\n",
    "import matplotlib.pyplot as plt\n",
    "\n",
    "# Đường dẫn đến thư mục reports/figures\n",
    "FIGURES_DIR = \"reports/figures\"\n",
    "os.makedirs(FIGURES_DIR, exist_ok=True)  # Tạo thư mục nếu chưa có\n",
    "\n",
    "# Vẽ và lưu biểu đồ\n",
    "plt.plot(history.history['accuracy'], label='train_accuracy')\n",
    "plt.plot(history.history['val_accuracy'], label='val_accuracy')\n",
    "plt.legend()\n",
    "plt.savefig(f\"{FIGURES_DIR}/training_history.png\")\n",
    "plt.show()\n"
   ]
  }
 ],
 "metadata": {
  "kernelspec": {
   "display_name": ".venv",
   "language": "python",
   "name": "python3"
  },
  "language_info": {
   "codemirror_mode": {
    "name": "ipython",
    "version": 3
   },
   "file_extension": ".py",
   "mimetype": "text/x-python",
   "name": "python",
   "nbconvert_exporter": "python",
   "pygments_lexer": "ipython3",
   "version": "3.10.0"
  }
 },
 "nbformat": 4,
 "nbformat_minor": 5
}

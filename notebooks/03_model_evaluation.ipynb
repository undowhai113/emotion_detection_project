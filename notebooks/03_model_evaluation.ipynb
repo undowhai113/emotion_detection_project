{
 "cells": [
  {
   "cell_type": "code",
   "execution_count": null,
   "id": "1d5ecc5c",
   "metadata": {},
   "outputs": [],
   "source": [
    "import numpy as np\n",
    "import tensorflow as tf\n",
    "from sklearn.metrics import confusion_matrix, classification_report\n",
    "import seaborn as sns\n",
    "import matplotlib.pyplot as plt"
   ]
  },
  {
   "cell_type": "markdown",
   "id": "ce6280fd",
   "metadata": {},
   "source": [
    "<span style=\"color: cyan;font-weight: bold;\">Định nghĩa đường dẫn<span>"
   ]
  },
  {
   "cell_type": "code",
   "execution_count": null,
   "id": "41834921",
   "metadata": {},
   "outputs": [],
   "source": [
    "PROCESSED_DIR = '../data/processed'\n",
    "MODEL_PATH = '../models/transfer_learning_model.h5'\n",
    "FIGURES_DIR = '../reports/figures'"
   ]
  },
  {
   "cell_type": "markdown",
   "id": "ea237d86",
   "metadata": {},
   "source": [
    "<span style=\"color: cyan;font-weight: bold;\">Tải dữ liệu test<span>"
   ]
  },
  {
   "cell_type": "code",
   "execution_count": null,
   "id": "6d6b5fac",
   "metadata": {},
   "outputs": [],
   "source": [
    "X_test = np.load(f\"{PROCESSED_DIR}/X_test.npy\")\n",
    "y_test = np.load(f\"{PROCESSED_DIR}/y_test.npy\")\n",
    "X_test_rgb = np.repeat(X_test, 3, axis=-1)"
   ]
  },
  {
   "cell_type": "markdown",
   "id": "ddfbf47c",
   "metadata": {},
   "source": [
    "<span style=\"color: cyan;font-weight: bold;\">Tải mô hình đã huấn luyện<span>"
   ]
  },
  {
   "cell_type": "code",
   "execution_count": null,
   "id": "3c6abbdb",
   "metadata": {},
   "outputs": [],
   "source": [
    "model = tf.keras.models.load_model(MODEL_PATH)"
   ]
  },
  {
   "cell_type": "code",
   "execution_count": null,
   "id": "29ffcd44",
   "metadata": {},
   "outputs": [],
   "source": [
    "model.summary()  # Kiểm tra cấu trúc của mô hình để đảm bảo đầu ra có 7 lớp\n"
   ]
  },
  {
   "cell_type": "markdown",
   "id": "1247b52b",
   "metadata": {},
   "source": [
    "<span style=\"color: cyan;font-weight: bold;\">Đánh giá mô hình<span>"
   ]
  },
  {
   "cell_type": "code",
   "execution_count": null,
   "id": "a3053ea3",
   "metadata": {},
   "outputs": [],
   "source": [
    "test_loss, test_acc = model.evaluate(X_test_rgb, y_test)\n",
    "print(f\"Độ chính xác trên tập test: {test_acc*100:.2f}%\")"
   ]
  },
  {
   "cell_type": "markdown",
   "id": "c64c0587",
   "metadata": {},
   "source": [
    "<span style=\"color: cyan;font-weight: bold;\">Dự đoán và vẽ ma trận nhầm lẫn<span>"
   ]
  },
  {
   "cell_type": "code",
   "execution_count": null,
   "id": "7dbfbf77",
   "metadata": {},
   "outputs": [],
   "source": [
    "y_pred = np.argmax(model.predict(X_test_rgb), axis=1)\n",
    "y_true = np.argmax(y_test, axis=1)\n",
    "cm = confusion_matrix(y_true, y_pred)\n",
    "plt.figure(figsize=(10,8))\n",
    "sns.heatmap(cm, annot=True, fmt='d', cmap='Blues')\n",
    "plt.savefig(f\"{FIGURES_DIR}/confusion_matrix.png\")"
   ]
  },
  {
   "cell_type": "markdown",
   "id": "e3d94a06",
   "metadata": {},
   "source": [
    "<span style=\"color: cyan;font-weight: bold;\">In báo cáo phân loại<span>"
   ]
  },
  {
   "cell_type": "code",
   "execution_count": null,
   "id": "60496e03",
   "metadata": {},
   "outputs": [],
   "source": [
    "print(classification_report(y_true, y_pred, target_names=['Angry', 'Disgust', 'Fear', 'Happy', 'Sad', 'Surprise', 'Neutral']))"
   ]
  }
 ],
 "metadata": {
  "kernelspec": {
   "display_name": ".venv",
   "language": "python",
   "name": "python3"
  },
  "language_info": {
   "codemirror_mode": {
    "name": "ipython",
    "version": 3
   },
   "file_extension": ".py",
   "mimetype": "text/x-python",
   "name": "python",
   "nbconvert_exporter": "python",
   "pygments_lexer": "ipython3",
   "version": "3.10.0"
  }
 },
 "nbformat": 4,
 "nbformat_minor": 5
}

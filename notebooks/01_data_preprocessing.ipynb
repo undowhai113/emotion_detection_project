{
 "cells": [
  {
   "cell_type": "code",
   "execution_count": 1,
   "id": "b3427eda",
   "metadata": {},
   "outputs": [
    {
     "name": "stdout",
     "output_type": "stream",
     "text": [
      "Project root added to sys.path: d:\\NguyenVanHai\\emotion_detection_project\n"
     ]
    }
   ],
   "source": [
    "import os\n",
    "import sys\n",
    "\n",
    "# Thêm thư mục gốc của dự án vào sys.path\n",
    "project_root = os.path.abspath(os.path.join(os.getcwd(), \"..\"))\n",
    "if project_root not in sys.path:\n",
    "    sys.path.insert(0, project_root)\n",
    "\n",
    "print(\"Project root added to sys.path:\", project_root)"
   ]
  },
  {
   "cell_type": "code",
   "execution_count": 2,
   "id": "51f1d13b",
   "metadata": {},
   "outputs": [],
   "source": [
    "import numpy as np\n",
    "from src.utils import load_fer2013, preprocess_data, save_processed_data"
   ]
  },
  {
   "cell_type": "markdown",
   "id": "5d8f4564",
   "metadata": {},
   "source": [
    "<span style=\"color: cyan;font-weight: bold;\">Định nghĩa đường dẫn<span>"
   ]
  },
  {
   "cell_type": "code",
   "execution_count": 3,
   "id": "a64c95ec",
   "metadata": {},
   "outputs": [],
   "source": [
    "DATA_PATH = '../data/fer2013.csv'\n",
    "PROCESSED_DIR = '../data/processed'"
   ]
  },
  {
   "cell_type": "markdown",
   "id": "0ee0aebd",
   "metadata": {},
   "source": [
    "<span style=\"color: cyan;font-weight: bold;\">Đọc dữ liệu<span>"
   ]
  },
  {
   "cell_type": "code",
   "execution_count": 4,
   "id": "43873acc",
   "metadata": {},
   "outputs": [],
   "source": [
    "images, labels = load_fer2013(DATA_PATH)"
   ]
  },
  {
   "cell_type": "markdown",
   "id": "c0a97c73",
   "metadata": {},
   "source": [
    "<span style=\"color: cyan; font-weight: bold;\">Cell 4: Tiền xử lý và chia dữ liệu</span>\n"
   ]
  },
  {
   "cell_type": "code",
   "execution_count": 5,
   "id": "e8b1484a",
   "metadata": {},
   "outputs": [],
   "source": [
    "X_train, y_train, X_val, y_val, X_test, y_test = preprocess_data(images, labels)"
   ]
  },
  {
   "cell_type": "code",
   "execution_count": 6,
   "id": "1cd5b3f9",
   "metadata": {},
   "outputs": [
    {
     "name": "stdout",
     "output_type": "stream",
     "text": [
      "Train class distribution: (array([0, 1, 2, 3, 4, 5, 6]), array([3467,  382, 3584, 6292, 4253, 2801, 4338]))\n",
      "Validation class distribution: (array([0, 1, 2, 3, 4, 5, 6]), array([ 742,   82,  768, 1348,  911,  600,  929]))\n",
      "Test class distribution: (array([0, 1, 2, 3, 4, 5, 6]), array([ 744,   83,  769, 1349,  913,  601,  931]))\n"
     ]
    }
   ],
   "source": [
    "print(\"Train class distribution:\", np.unique(y_train.argmax(axis=1), return_counts=True))\n",
    "print(\"Validation class distribution:\", np.unique(y_val.argmax(axis=1), return_counts=True))\n",
    "print(\"Test class distribution:\", np.unique(y_test.argmax(axis=1), return_counts=True))\n"
   ]
  },
  {
   "cell_type": "markdown",
   "id": "b64cc632",
   "metadata": {},
   "source": [
    "<span style=\"color: cyan; font-weight: bold;\">Cell 5: Lưu dữ liệu đã tiền xử lý</span>\n"
   ]
  },
  {
   "cell_type": "code",
   "execution_count": 7,
   "id": "ee95fc9c",
   "metadata": {},
   "outputs": [],
   "source": [
    "save_processed_data(X_train, y_train, X_val, y_val, X_test, y_test, PROCESSED_DIR)"
   ]
  }
 ],
 "metadata": {
  "kernelspec": {
   "display_name": ".venv",
   "language": "python",
   "name": "python3"
  },
  "language_info": {
   "codemirror_mode": {
    "name": "ipython",
    "version": 3
   },
   "file_extension": ".py",
   "mimetype": "text/x-python",
   "name": "python",
   "nbconvert_exporter": "python",
   "pygments_lexer": "ipython3",
   "version": "3.10.0"
  }
 },
 "nbformat": 4,
 "nbformat_minor": 5
}
